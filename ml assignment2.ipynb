{
 "cells": [
  {
   "cell_type": "code",
   "execution_count": 16,
   "id": "f767c137",
   "metadata": {},
   "outputs": [
    {
     "name": "stdout",
     "output_type": "stream",
     "text": [
      "\n",
      "* \n",
      "* * \n",
      "* * * \n",
      "* * * * \n",
      "* * * * * \n",
      "* * * * \n",
      "* * * \n",
      "* * \n",
      "* \n"
     ]
    }
   ],
   "source": [
    "#q1\n",
    "for i in range(6):\n",
    "    for j in range(i):\n",
    "        print(\"*\", end = \" \")\n",
    "    print(\"\")\n",
    "\n",
    "for i in range(4, 0, -1):\n",
    "    for j in range(i):\n",
    "        print(\"*\", end = \" \")\n",
    "    print(\"\")\n"
   ]
  },
  {
   "cell_type": "code",
   "execution_count": 17,
   "id": "50e8334f",
   "metadata": {},
   "outputs": [
    {
     "name": "stdout",
     "output_type": "stream",
     "text": [
      "[20, 40, 60, 80, 100]\n"
     ]
    }
   ],
   "source": [
    "#q2\n",
    "my_list = [10,20,30,40,50,60,70,80,90,100]\n",
    "temp = []\n",
    "for i in my_list[1::2]: #starts from zero but we want odd\n",
    "    temp.append(i)\n",
    "print(temp)"
   ]
  },
  {
   "cell_type": "code",
   "execution_count": 18,
   "id": "2ad08294",
   "metadata": {},
   "outputs": [
    {
     "name": "stdout",
     "output_type": "stream",
     "text": [
      "[23, 'python', 23.98]\n",
      "[<class 'int'>, <class 'str'>, <class 'float'>]\n"
     ]
    }
   ],
   "source": [
    "#q3\n",
    "x = [23, 'python' , 23.98]\n",
    "temp = []\n",
    "for i in x :\n",
    "    temp.append(type(i))\n",
    "print(x)\n",
    "print(temp)"
   ]
  },
  {
   "cell_type": "code",
   "execution_count": 21,
   "id": "de27d438",
   "metadata": {},
   "outputs": [
    {
     "name": "stdout",
     "output_type": "stream",
     "text": [
      "length of the list3\n",
      "1\n",
      "2\n",
      "2\n",
      "Unique list is:  [1, 2]\n"
     ]
    }
   ],
   "source": [
    "#q4\n",
    "def unique(s):\n",
    "    temp = list(set(s)) # unique\n",
    "    print(\"Unique list is: \",temp)\n",
    "s1=[]\n",
    "n = int(input(\"length of the list\"))\n",
    "for i in range(0,n):\n",
    "    s= int(input())\n",
    "    s1.append(s)\n",
    "unique(s1)\n"
   ]
  },
  {
   "cell_type": "code",
   "execution_count": 22,
   "id": "26d3fe52",
   "metadata": {},
   "outputs": [
    {
     "name": "stdout",
     "output_type": "stream",
     "text": [
      "enter the string: aa AA\n",
      "Number of Upper case letters: 2\n",
      "Number of Lower case letters: 2\n"
     ]
    }
   ],
   "source": [
    "#q5\n",
    "x = input(\"enter the string: \")\n",
    "uppercount = 0\n",
    "lowercount = 0\n",
    "for i in x:\n",
    "    if i.isupper():\n",
    "        uppercount= uppercount+1\n",
    "    if i.islower():\n",
    "        lowercount = lowercount + 1\n",
    "print(\"Number of Upper case letters:\",uppercount)\n",
    "print(\"Number of Lower case letters:\",lowercount)"
   ]
  },
  {
   "cell_type": "code",
   "execution_count": null,
   "id": "06f15f2f",
   "metadata": {},
   "outputs": [],
   "source": []
  }
 ],
 "metadata": {
  "kernelspec": {
   "display_name": "Python 3 (ipykernel)",
   "language": "python",
   "name": "python3"
  },
  "language_info": {
   "codemirror_mode": {
    "name": "ipython",
    "version": 3
   },
   "file_extension": ".py",
   "mimetype": "text/x-python",
   "name": "python",
   "nbconvert_exporter": "python",
   "pygments_lexer": "ipython3",
   "version": "3.9.13"
  }
 },
 "nbformat": 4,
 "nbformat_minor": 5
}
