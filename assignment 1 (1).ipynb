{
 "cells": [
  {
   "cell_type": "code",
   "execution_count": 3,
   "id": "45315d60",
   "metadata": {
    "scrolled": true
   },
   "outputs": [
    {
     "name": "stdout",
     "output_type": "stream",
     "text": [
      "The sorted list of ages is  [19, 19, 20, 22, 24, 24, 24, 25, 25, 26]\n",
      "The minimum age is  19\n",
      "The maximum age is  26\n",
      "the median is given by  24\n",
      "The average age is given by  22\n",
      "The range of the ages  7\n"
     ]
    }
   ],
   "source": [
    "#Question 1\n",
    "\n",
    "# list containing age groups\n",
    "\n",
    "ages = [19, 22, 19, 24, 20, 25, 26, 24, 25, 24]\n",
    "ages.sort()       # This sort method arranges the given list in ascending order \n",
    "print(\"The sorted list of ages is \",ages)     # printing the sorted ages\n",
    "minimum=ages[0]   # The first value is least in a sorted list\n",
    "maximum=ages[-1]    # The last value is highest in a sorted list\n",
    "print(\"The minimum age is \",minimum) \n",
    "print(\"The maximum age is \",maximum)\n",
    "ages.append(minimum)  #  Using append method to add minimum age   \n",
    "ages.append(maximum)  #Using append method to add minimum age\n",
    "ages.sort()\n",
    "median=((ages[len(ages)//2]+ages[len(ages)//2+1])//2)  \n",
    "print(\"the median is given by \",median)\n",
    "sum_temp=0\n",
    "for i in ages:\n",
    "    sum_temp+=i\n",
    "avg=sum_temp//len(ages)    \n",
    "print(\"The average age is given by \",avg) # the average of the list=sum(ages)/len(ages)\n",
    "total_range=maximum-minimum  # total_range=maximum-minimum\n",
    "print(\"The range of the ages \",total_range)"
   ]
  },
  {
   "cell_type": "code",
   "execution_count": 4,
   "id": "9d083e08",
   "metadata": {},
   "outputs": [
    {
     "name": "stdout",
     "output_type": "stream",
     "text": [
      "{'name': 'Tommy', 'color': 'black', 'breed': 'pug', 'legs': 4, 'age': 9}\n",
      "{'first_name': 'sai kiran reddy', 'last_name': 'kotha', 'gender': 'Male', 'age': '22', 'marital_status': 'single', 'skills': ['Machine learning', 'Gaming', 'Cooking'], 'country': 'india', 'city': 'hyderabad', 'address': 'Nagole'}\n",
      "\n",
      " the length of students dict is given by  9\n",
      "\n",
      "skills of students ['Machine learning', 'Gaming', 'Cooking']  the type is given by  <class 'list'>\n",
      "the updated skills are  ['Machine learning', 'Gaming', 'Cooking', 'python', 'c++']\n",
      "dictionary keys as a list  dict_keys(['first_name', 'last_name', 'gender', 'age', 'marital_status', 'skills', 'country', 'city', 'address'])\n",
      "dictionary values as a list  dict_values(['sai kiran reddy', 'kotha', 'Male', '22', 'single', ['Machine learning', 'Gaming', 'Cooking', 'python', 'c++'], 'india', 'hyderabad', 'Nagole'])\n"
     ]
    }
   ],
   "source": [
    "# Question 2\n",
    "\n",
    "dog=dict() # dict() method is  for creating empty dictionary\n",
    "dog['name']=\"Tommy\"  # here we can assign key and value using dictionary[key]=value\n",
    "dog['color']='black'\n",
    "dog['breed']='pug'\n",
    "dog['legs']=4\n",
    "dog['age']=9\n",
    "print(dog)\n",
    "# below is student dictionary\n",
    "student={\"first_name\":\"sai kiran reddy\", \"last_name\":'kotha', \"gender\":'Male', \"age\":'22', \"marital_status\":\"single\",\n",
    "\"skills\":['Machine learning','Gaming','Cooking'],\"country\":'india', \"city\":'hyderabad',\n",
    "         \"address\":'Nagole'}\n",
    "print(student) # features of students\n",
    "length=len(student) # length of the dictionary\n",
    "print()\n",
    "print(\" the length of students dict is given by \",length)\n",
    "print()\n",
    "# type is used to find out the type of the variable\n",
    "print(\"skills of students\",student[\"skills\"],' the type is given by ',type(student['skills'])) \n",
    "student['skills'].append('python');student['skills'].append('c++') # append is used to add element to the list\n",
    "print(\"the updated skills are \",student['skills'])\n",
    "keyslist=student.keys();  \n",
    "print(\"dictionary keys as a list \",keyslist) \n",
    "valuelist=student.values() \n",
    "print(\"dictionary values as a list \",valuelist)\n"
   ]
  },
  {
   "cell_type": "code",
   "execution_count": 5,
   "id": "76477a46",
   "metadata": {},
   "outputs": [
    {
     "name": "stdout",
     "output_type": "stream",
     "text": [
      "The number of siblings are 8\n",
      "final list of family members ('vardhan', 'varun', 'vamshi', 'rahul', 'suji', 'manasa', 'sanjana', 'srujana', 'anitha', 'mahender')\n"
     ]
    }
   ],
   "source": [
    "#question 3\n",
    "brothers=('vardhan','varun','vamshi','rahul') # setting the containing names of brothers and sisters\n",
    "sisters=('suji','manasa','sanjana','srujana') \n",
    "siblings=brothers+sisters \n",
    "print(\"The number of siblings are\",len(siblings))\n",
    "\n",
    "siblings=list(siblings) # since tuple is immutable we convert to list\n",
    "siblings.append('anitha')# adding parents\n",
    "siblings.append('mahender') \n",
    "siblings=tuple(siblings) # reconversion to tuple\n",
    "familymembers=siblings\n",
    "print(\"final list of family members\",familymembers) \n"
   ]
  },
  {
   "cell_type": "code",
   "execution_count": 6,
   "id": "759bc2df",
   "metadata": {},
   "outputs": [
    {
     "name": "stdout",
     "output_type": "stream",
     "text": [
      "length of it_companies  7\n",
      "updated set {'Facebook', 'Microsoft', 'IBM', 'Tesla', 'Twitter', 'Phillips', 'Google', 'Amazon', 'Ebay', 'Apple', 'Oracle'}\n",
      "updated list after removing facebook  {'Microsoft', 'IBM', 'Tesla', 'Twitter', 'Phillips', 'Google', 'Amazon', 'Ebay', 'Apple', 'Oracle'}\n",
      "difference between remove and discard\n",
      "if the item to remove does not exist remove() will raise an error\n",
      "if the item to remove does not exist, discard() will NOT raise an error\n",
      "the union of A and B is given by  {19, 20, 22, 24, 25, 26, 27, 28}\n",
      "the intersection of A and B is given by  {19, 20, 22, 24, 25, 26}\n",
      "is A subset of B  True\n",
      "are A and B disjoint sets False\n",
      "A join with B  {19, 20, 22, 24, 25, 26, 27, 28}\n",
      "B join with A {19, 20, 22, 24, 25, 26, 27, 28}\n",
      " symmetric difference between A and B is given by  {27, 28}\n",
      "printing A and B after clear  set() set()\n",
      "length of list age 8\n",
      "length of set age  5\n"
     ]
    }
   ],
   "source": [
    "# question 4\n",
    "it_companies = {'Facebook', 'Google', 'Microsoft', 'Apple', 'IBM', 'Oracle', 'Amazon'}\n",
    "A = {19, 22, 24, 20, 25, 26}\n",
    "B = {19, 22, 20, 25, 26, 24, 28, 27}\n",
    "age = [22, 19, 24, 25, 26, 24, 25, 24]\n",
    "print(\"length of it_companies \",len(it_companies)) \n",
    "it_companies.add('Twitter') # 'add' function adds to the set\n",
    "newcompanies={'Tesla','Phillips','Ebay'}\n",
    "it_companies.update(newcompanies) # 'update' function adds multiple elements to the set\n",
    "print('updated set',it_companies)\n",
    "it_companies.remove('Facebook') # 'remove' function removes value from set\n",
    "print('updated list after removing facebook ',it_companies)\n",
    "print(\"difference between remove and discard\")\n",
    "print(\"if the item to remove does not exist remove() will raise an error\") \n",
    "print(\"if the item to remove does not exist, discard() will NOT raise an error\")\n",
    "C=A.union(B) # 'union' function is used for union of two sets\n",
    "print(\"the union of A and B is given by \",C)\n",
    "D=A.intersection(B)  # intersection function is used for intersection of two sets\n",
    "print(\"the intersection of A and B is given by \",D)\n",
    "issub=A.issubset(B)   # issubset is used to check if one set is subset of others\n",
    "print(\"is A subset of B \",issub) \n",
    "isdis=A.isdisjoint(B)  # isdisjoint is used to check if both sets are disjoint or not\n",
    "print(\"are A and B disjoint sets\",isdis)\n",
    "ajoinb=A.union(B) # union is used for join of two sets\n",
    "bjoina=B.union(A)\n",
    "print(\"A join with B \",ajoinb)\n",
    "print(\"B join with A\",bjoina)\n",
    "sym_diff=A.symmetric_difference(B) # symmetric difference between two sets\n",
    "print(\" symmetric difference between A and B is given by \",sym_diff)\n",
    "A.clear();B.clear() \n",
    "print(\"printing A and B after clear \",A,B)\n",
    "print(\"length of list age\",len(age))\n",
    "setage=set(age)\n",
    "print(\"length of set age \",len(setage)) # set removes duplicates"
   ]
  },
  {
   "cell_type": "code",
   "execution_count": 7,
   "id": "80576783",
   "metadata": {},
   "outputs": [
    {
     "name": "stdout",
     "output_type": "stream",
     "text": [
      "area of the circle is  2826.0\n",
      "circumference of the circle is 188.4\n",
      "Enter the radius value 6\n",
      "the area of circle is given by  2826.0\n"
     ]
    }
   ],
   "source": [
    "#question 5\n",
    "radius=30 #meters\n",
    "_area_of_circle_=3.14*radius*radius #the formula for area of circle formula =3.14*r*r\n",
    "print(\"area of the circle is \",_area_of_circle_)\n",
    "_circum_of_circle_=2*3.14*radius\n",
    "print(\"circumference of the circle is\",_circum_of_circle_)\n",
    "radius=int(input(\"Enter the radius value \"))\n",
    "_area_of_circle=3.14*(radius**2)\n",
    "print(\"the area of circle is given by \",_area_of_circle_)\n"
   ]
  },
  {
   "cell_type": "code",
   "execution_count": 8,
   "id": "a6089a6d",
   "metadata": {},
   "outputs": [
    {
     "name": "stdout",
     "output_type": "stream",
     "text": [
      "list of unique words  ['am', 'inspire', 'I', 'a', 'teach', 'love', 'teacher', 'and', 'people', 'to']\n",
      "length of list is 10\n"
     ]
    }
   ],
   "source": [
    "# Question 6\n",
    "l=\"I am a teacher and I love to inspire and teach people\"\n",
    "a=l.split() # splitting the string and storing in form of list \n",
    "a=list(set(a)) # removes duplicates\n",
    "print(\"list of unique words \",a)\n",
    "print(\"length of list is\",len(a))"
   ]
  },
  {
   "cell_type": "code",
   "execution_count": 9,
   "id": "00df78bd",
   "metadata": {},
   "outputs": [
    {
     "name": "stdout",
     "output_type": "stream",
     "text": [
      "Name\tAge\tCountry\tCity\n",
      "Asabeneh\t250\tFinland\tHelsinki\n"
     ]
    }
   ],
   "source": [
    "# question 7\n",
    "print(\"Name\",\"Age\",\"Country\",\"City\",sep='\\t')\n",
    "print(\"Asabeneh\",\"250\",\"Finland\",\"Helsinki\",sep='\\t')"
   ]
  },
  {
   "cell_type": "code",
   "execution_count": 10,
   "id": "cbf658a5",
   "metadata": {},
   "outputs": [
    {
     "name": "stdout",
     "output_type": "stream",
     "text": [
      "The area of a circle with radius 10 is 314.0 meters square.\n"
     ]
    }
   ],
   "source": [
    "# question 8\n",
    "radius = 10\n",
    "area = 3.14 * radius ** 2\n",
    "print(\"The area of a circle with radius {0} is {1} meters square.\".format(radius,area))"
   ]
  },
  {
   "cell_type": "code",
   "execution_count": 14,
   "id": "8f3dc62f",
   "metadata": {},
   "outputs": [
    {
     "name": "stdout",
     "output_type": "stream",
     "text": [
      "enter the length of weights list3\n",
      "24\n",
      "45\n",
      "67\n",
      "the new list of weights  [10.886216880000001, 20.41165665, 30.390688790000002]\n"
     ]
    }
   ],
   "source": [
    "# question 9\n",
    "N=int(input(\"enter the length of weights list\")) # in oython default input is string so we are tyoe casting\n",
    "LIST=[]\n",
    "for i in range(N):\n",
    "    LIST.append(int(input()))\n",
    "for i in range((N)):\n",
    "    LIST[i]=LIST[i]*0.45359237    # pounds formula is to multiply kgs by 0.45359237\n",
    "print(\"the new list of weights \",LIST)\n",
    "    \n"
   ]
  },
  {
   "cell_type": "code",
   "execution_count": null,
   "id": "e1b9e5e5",
   "metadata": {},
   "outputs": [],
   "source": []
  }
 ],
 "metadata": {
  "kernelspec": {
   "display_name": "Python 3 (ipykernel)",
   "language": "python",
   "name": "python3"
  },
  "language_info": {
   "codemirror_mode": {
    "name": "ipython",
    "version": 3
   },
   "file_extension": ".py",
   "mimetype": "text/x-python",
   "name": "python",
   "nbconvert_exporter": "python",
   "pygments_lexer": "ipython3",
   "version": "3.9.13"
  }
 },
 "nbformat": 4,
 "nbformat_minor": 5
}
